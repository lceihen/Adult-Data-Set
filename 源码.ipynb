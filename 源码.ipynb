{
 "cells": [
  {
   "cell_type": "code",
   "execution_count": 3,
   "metadata": {},
   "outputs": [
    {
     "name": "stdout",
     "output_type": "stream",
     "text": [
      "   0                  1       2           3   4                    5   \\\n",
      "0  39          State-gov   77516   Bachelors  13        Never-married   \n",
      "1  50   Self-emp-not-inc   83311   Bachelors  13   Married-civ-spouse   \n",
      "2  38            Private  215646     HS-grad   9             Divorced   \n",
      "3  53            Private  234721        11th   7   Married-civ-spouse   \n",
      "4  28            Private  338409   Bachelors  13   Married-civ-spouse   \n",
      "\n",
      "                   6               7       8        9     10  11  12  \\\n",
      "0        Adm-clerical   Not-in-family   White     Male  2174   0  40   \n",
      "1     Exec-managerial         Husband   White     Male     0   0  13   \n",
      "2   Handlers-cleaners   Not-in-family   White     Male     0   0  40   \n",
      "3   Handlers-cleaners         Husband   Black     Male     0   0  40   \n",
      "4      Prof-specialty            Wife   Black   Female     0   0  40   \n",
      "\n",
      "               13      14  \n",
      "0   United-States   <=50K  \n",
      "1   United-States   <=50K  \n",
      "2   United-States   <=50K  \n",
      "3   United-States   <=50K  \n",
      "4            Cuba   <=50K  \n",
      "<class 'pandas.core.frame.DataFrame'>\n",
      "RangeIndex: 32561 entries, 0 to 32560\n",
      "Data columns (total 15 columns):\n",
      " #   Column  Non-Null Count  Dtype \n",
      "---  ------  --------------  ----- \n",
      " 0   0       32561 non-null  int64 \n",
      " 1   1       32561 non-null  object\n",
      " 2   2       32561 non-null  int64 \n",
      " 3   3       32561 non-null  object\n",
      " 4   4       32561 non-null  int64 \n",
      " 5   5       32561 non-null  object\n",
      " 6   6       32561 non-null  object\n",
      " 7   7       32561 non-null  object\n",
      " 8   8       32561 non-null  object\n",
      " 9   9       32561 non-null  object\n",
      " 10  10      32561 non-null  int64 \n",
      " 11  11      32561 non-null  int64 \n",
      " 12  12      32561 non-null  int64 \n",
      " 13  13      32561 non-null  object\n",
      " 14  14      32561 non-null  object\n",
      "dtypes: int64(6), object(9)\n",
      "memory usage: 3.7+ MB\n",
      "0.9908162588687753\n",
      "本来有0.996的，后来忘记改了哪个参数导致准确率下降一点\n"
     ]
    }
   ],
   "source": [
    "# 读入数据\n",
    "\n",
    "import pandas as pd\n",
    "df = pd.read_csv(\"adult.data\", header=None)\n",
    "print(df.head())\n",
    "df.info()\n",
    "type(df)\n",
    "df.head(20)\n",
    "# 数据处理一：去除字符串数值前面的空格\n",
    "str_cols=[1,3,5,6,7,8,9,13,14]\n",
    "for col in str_cols:\n",
    "    df.iloc[:,col]=df.iloc[:,col].map(lambda x: x.strip())\n",
    " # 数据处理二： 删除缺失值样本\n",
    "# 将?字符串替换为NaN缺失值标志\n",
    "import numpy as np\n",
    "df.replace(\"?\",np.nan,inplace=True)\n",
    "# 此处直接删除缺失值样本(包含缺失值的行都删除)\n",
    "df.dropna(inplace=True)\n",
    "data1=df[0]\n",
    "data2=df[4]\n",
    "data3=df[12]\n",
    "data=pd.concat([data1, data2], axis=1)\n",
    "data=pd.concat([data, data3], axis=1)\n",
    "df.head(5)\n",
    "type_dummies=pd.get_dummies(df[1],prefix='type')\n",
    "data = pd.concat([data, type_dummies], axis=1)\n",
    "type_dummies=pd.get_dummies(df[3],prefix='type')\n",
    "data = pd.concat([data, type_dummies], axis=1)\n",
    "type_dummies=pd.get_dummies(df[5],prefix='type')\n",
    "data = pd.concat([data, type_dummies], axis=1)\n",
    "type_dummies=pd.get_dummies(df[6],prefix='type')\n",
    "data = pd.concat([data, type_dummies], axis=1)\n",
    "type_dummies=pd.get_dummies(df[7],prefix='type')\n",
    "data = pd.concat([data, type_dummies], axis=1)\n",
    "type_dummies=pd.get_dummies(df[8],prefix='type')\n",
    "data = pd.concat([data, type_dummies], axis=1)\n",
    "\n",
    "\n",
    "# 划分训练集集和测试集\n",
    "data=data.values\n",
    "from sklearn.model_selection import train_test_split\n",
    "X, y = data[:, :-2], data[:,-1]\n",
    "train_X, test_X, train_y, test_y = train_test_split(X, y, test_size=0.35, random_state=40) \n",
    "#决策树\n",
    "from sklearn.tree import DecisionTreeClassifier\n",
    "rf  =DecisionTreeClassifier(random_state=3, max_depth=6)\n",
    "from sklearn.model_selection import RepeatedKFold\n",
    "kf = RepeatedKFold(n_splits=2, n_repeats=3, random_state=40)\n",
    "re1= []\n",
    "X = np.array(X)\n",
    "y = np.array(y)\n",
    "for train_index, test_index in kf.split(X):\n",
    "    train_X, test_X = X[train_index], X[test_index]\n",
    "    train_y, test_y = y[train_index], y[test_index]\n",
    "    \n",
    "    DT =DecisionTreeClassifier(random_state=3, max_depth=10)\n",
    "    DT.fit(train_X,train_y)\n",
    "    ss = DT.score(test_X,test_y)\n",
    "    re1.append(ss)\n",
    "print(np.array(re1).mean())\n",
    "print('本来有0.996的，后来忘记改了哪个参数导致准确率下降一点')"
   ]
  },
  {
   "cell_type": "code",
   "execution_count": 10,
   "metadata": {},
   "outputs": [
    {
     "data": {
      "text/plain": [
       "[0.9918780043096304,\n",
       " 0.991546494281452,\n",
       " 0.990550397877984,\n",
       " 0.9910477453580901,\n",
       " 0.9907161803713528]"
      ]
     },
     "execution_count": 10,
     "metadata": {},
     "output_type": "execute_result"
    }
   ],
   "source": [
    "re1"
   ]
  },
  {
   "cell_type": "code",
   "execution_count": 30,
   "metadata": {},
   "outputs": [],
   "source": [
    "import pandas as pd\n",
    "df_test= pd.read_csv(\"adult.test\", header=None)\n",
    "df_test.info\n",
    "# 数据处理一：去除字符串数值前面的空格\n",
    "str_cols_test=[1,3,5,6,7,8,9,13,14]\n",
    "for col in str_cols_test:\n",
    "    df_test.iloc[:,col]=df_test.iloc[:,col].map(lambda x: x.strip())\n",
    " # 数据处理二： 删除缺失值样本\n",
    "# 将?字符串替换为NaN缺失值标志\n",
    "import numpy as np\n",
    "df_test.replace(\"?\",np.nan,inplace=True)\n",
    "# 此处直接删除缺失值样本(包含缺失值的行都删除)\n",
    "df_test.dropna(inplace=True)\n",
    "df_test.head(5)\n",
    "data1_test=df_test[0]\n",
    "data2_test=df_test[4]\n",
    "data3_test=df_test[12]\n",
    "data_test=pd.concat([data1_test, data2_test], axis=1)\n",
    "data_test=pd.concat([data_test, data3], axis=1)\n",
    "data_test\n",
    "type_dummies1=pd.get_dummies(df_test[1],prefix='type')\n",
    "data_test = pd.concat([data_test, type_dummies1], axis=1)\n",
    "type_dummies1=pd.get_dummies(df_test[3],prefix='type')\n",
    "data_test = pd.concat([data_test, type_dummies1], axis=1)\n",
    "type_dummies1=pd.get_dummies(df_test[5],prefix='type')\n",
    "data_test = pd.concat([data_test, type_dummies1], axis=1)\n",
    "type_dummies1=pd.get_dummies(df_test[6],prefix='type')\n",
    "data_test = pd.concat([data_test, type_dummies1], axis=1)\n",
    "type_dummies1=pd.get_dummies(df_test[7],prefix='type')\n",
    "data_test = pd.concat([data_test, type_dummies1], axis=1)\n",
    "type_dummies1=pd.get_dummies(df_test[8],prefix='type')\n",
    "data_test = pd.concat([data_test, type_dummies1], axis=1)\n",
    "\n",
    "data_test\n",
    "data_test.shape\n",
    "data_test=data_test.values\n",
    "X_data_test, y_data_test = data_test[:, :-2], data_test[:,-1]"
   ]
  },
  {
   "cell_type": "code",
   "execution_count": null,
   "metadata": {},
   "outputs": [],
   "source": []
  },
  {
   "cell_type": "code",
   "execution_count": 7,
   "metadata": {},
   "outputs": [
    {
     "ename": "NameError",
     "evalue": "name 'X_train' is not defined",
     "output_type": "error",
     "traceback": [
      "\u001b[1;31m----------------------------------------------------------------------\u001b[0m",
      "\u001b[1;31mNameError\u001b[0m                            Traceback (most recent call last)",
      "\u001b[1;32m<ipython-input-7-401a796f2e10>\u001b[0m in \u001b[0;36m<module>\u001b[1;34m\u001b[0m\n\u001b[0;32m      1\u001b[0m \u001b[1;32mfrom\u001b[0m \u001b[0msklearn\u001b[0m\u001b[1;33m.\u001b[0m\u001b[0mneighbors\u001b[0m \u001b[1;32mimport\u001b[0m \u001b[0mKNeighborsClassifier\u001b[0m\u001b[1;33m\u001b[0m\u001b[1;33m\u001b[0m\u001b[0m\n\u001b[0;32m      2\u001b[0m \u001b[0mknn\u001b[0m \u001b[1;33m=\u001b[0m \u001b[0mKNeighborsClassifier\u001b[0m\u001b[1;33m(\u001b[0m\u001b[0mn_neighbors\u001b[0m\u001b[1;33m=\u001b[0m\u001b[1;36m3\u001b[0m\u001b[1;33m)\u001b[0m\u001b[1;33m\u001b[0m\u001b[1;33m\u001b[0m\u001b[0m\n\u001b[1;32m----> 3\u001b[1;33m \u001b[0mknn\u001b[0m\u001b[1;33m.\u001b[0m\u001b[0mfit\u001b[0m\u001b[1;33m(\u001b[0m\u001b[0mX_train\u001b[0m\u001b[1;33m,\u001b[0m\u001b[0my_train\u001b[0m\u001b[1;33m)\u001b[0m\u001b[1;33m\u001b[0m\u001b[1;33m\u001b[0m\u001b[0m\n\u001b[0m\u001b[0;32m      4\u001b[0m \u001b[0mypred\u001b[0m \u001b[1;33m=\u001b[0m \u001b[0mknn\u001b[0m\u001b[1;33m.\u001b[0m\u001b[0mpredict\u001b[0m\u001b[1;33m(\u001b[0m\u001b[0mX_test\u001b[0m\u001b[1;33m)\u001b[0m\u001b[1;33m\u001b[0m\u001b[1;33m\u001b[0m\u001b[0m\n\u001b[0;32m      5\u001b[0m \u001b[1;32mfrom\u001b[0m \u001b[0msklearn\u001b[0m\u001b[1;33m.\u001b[0m\u001b[0mmodel_selection\u001b[0m \u001b[1;32mimport\u001b[0m \u001b[0mKFold\u001b[0m\u001b[1;33m\u001b[0m\u001b[1;33m\u001b[0m\u001b[0m\n",
      "\u001b[1;31mNameError\u001b[0m: name 'X_train' is not defined"
     ]
    }
   ],
   "source": [
    "from sklearn.neighbors import KNeighborsClassifier\n",
    "knn = KNeighborsClassifier(n_neighbors=3)\n",
    "knn.fit(train_X,train_y)\n",
    "ypred = knn.predict(X_test)\n",
    "from sklearn.model_selection import KFold\n",
    "re1= []\n",
    "kf = KFold(n_splits=5)\n",
    "X = np.array(X)\n",
    "y = np.array(y)\n",
    "for train_index, test_index in kf.split(X):\n",
    "    train_X, test_X = X[train_index], X[test_index]\n",
    "    train_y, test_y = y[train_index], y[test_index]\n",
    "    \n",
    "    DT =DecisionTreeClassifier(random_state=3, max_depth=10)\n",
    "    DT.fit(train_X,train_y)\n",
    "    ss = DT.score(test_X,test_y)\n",
    "    re1.append(ss)\n",
    "print(np.array(re1).mean())"
   ]
  },
  {
   "cell_type": "code",
   "execution_count": 31,
   "metadata": {},
   "outputs": [
    {
     "name": "stdout",
     "output_type": "stream",
     "text": [
      "0.9911477644397019\n"
     ]
    }
   ],
   "source": []
  },
  {
   "cell_type": "code",
   "execution_count": 32,
   "metadata": {},
   "outputs": [
    {
     "name": "stdout",
     "output_type": "stream",
     "text": [
      "0.9907499359183202\n"
     ]
    }
   ],
   "source": [
    "#随机森林\n",
    "from sklearn.ensemble import RandomForestClassifier\n",
    "\n",
    "rf  = RandomForestClassifier(n_estimators=10)\n",
    "from sklearn.model_selection import KFold\n",
    "re = []\n",
    "kf = KFold(n_splits=5)\n",
    "X = np.array(X)\n",
    "y = np.array(y)\n",
    "for train_index, test_index in kf.split(X):\n",
    "    train_X, test_X = X[train_index], X[test_index]\n",
    "    train_y, test_y = y[train_index], y[test_index]\n",
    "    \n",
    "    rf = RandomForestClassifier(n_estimators=35)\n",
    "    rf.fit(train_X,train_y)\n",
    "    ss = rf.score(test_X,test_y)\n",
    "    re.append(ss)\n",
    "print(np.array(re).mean())\n",
    "\n"
   ]
  },
  {
   "cell_type": "code",
   "execution_count": 33,
   "metadata": {},
   "outputs": [],
   "source": [
    "#from sklearn.preprocessing import LabelEncoder\n",
    "# 就是把文本类型标签化\n",
    "#le = LabelEncoder()\n",
    "#data[\"output\"]=le.fit_transform(data[1])"
   ]
  },
  {
   "cell_type": "code",
   "execution_count": 34,
   "metadata": {},
   "outputs": [
    {
     "name": "stdout",
     "output_type": "stream",
     "text": [
      "0.9753331093222467\n"
     ]
    }
   ],
   "source": [
    "#朴素贝叶斯\n",
    "from sklearn.model_selection import KFold\n",
    "from sklearn.naive_bayes import GaussianNB\n",
    "re2 = []\n",
    "kf = KFold(n_splits=5)\n",
    "X = np.array(X)\n",
    "y = np.array(y)\n",
    "for train_index, test_index in kf.split(X):\n",
    "    train_X, test_X = X[train_index], X[test_index]\n",
    "    train_y, test_y = y[train_index], y[test_index]\n",
    "    \n",
    "    gaussianNB=GaussianNB()\n",
    "    gaussianNB.fit(train_X,train_y)\n",
    "    ss = gaussianNB.score(test_X,test_y)\n",
    "    re2.append(ss)\n",
    "print(np.array(re2).mean())\n"
   ]
  },
  {
   "cell_type": "code",
   "execution_count": null,
   "metadata": {},
   "outputs": [],
   "source": []
  },
  {
   "cell_type": "code",
   "execution_count": null,
   "metadata": {},
   "outputs": [],
   "source": []
  }
 ],
 "metadata": {
  "kernelspec": {
   "display_name": "Python 3",
   "language": "python",
   "name": "python3"
  },
  "language_info": {
   "codemirror_mode": {
    "name": "ipython",
    "version": 3
   },
   "file_extension": ".py",
   "mimetype": "text/x-python",
   "name": "python",
   "nbconvert_exporter": "python",
   "pygments_lexer": "ipython3",
   "version": "3.7.6"
  }
 },
 "nbformat": 4,
 "nbformat_minor": 4
}
